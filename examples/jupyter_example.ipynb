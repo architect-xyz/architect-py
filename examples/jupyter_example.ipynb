{
 "cells": [
  {
   "cell_type": "code",
   "execution_count": null,
   "id": "303748c7-1727-412e-a9b3-5295bf95c1f6",
   "metadata": {},
   "outputs": [],
   "source": [
    "import sys\n",
    "import os\n",
    "\n",
    "sys.path.append(os.path.abspath(\"..\"))  # this is for running this notebook relative to the main directory\n",
    "\n",
    "import asyncio\n",
    "from datetime import datetime, timedelta\n",
    "from architect_py.async_client import AsyncClient\n",
    "from architect_py.scalars import OrderDir, TradableProduct\n",
    "from architect_py.utils.nearest_tick import TickRoundMethod\n",
    "from architect_py.graphql_client.enums import (\n",
    "    OrderType,\n",
    "    TimeInForce,\n",
    ")\n",
    "\n",
    "from architect_py.grpc_client import definitions\n",
    "\n",
    "from decimal import Decimal\n",
    "\n",
    "import logging"
   ]
  },
  {
   "cell_type": "code",
   "execution_count": null,
   "id": "15011078-21a1-4ced-b2d9-a523c057ce97",
   "metadata": {},
   "outputs": [],
   "source": [
    "api_key = \"\"\n",
    "api_secret = \"\"\n",
    "\n",
    "paper_trading = True\n",
    "\n",
    "if not api_key or not api_secret:\n",
    "    raise ValueError(\n",
    "        \"Please set the api_key, api_secret variables before running this script\"\n",
    "    )"
   ]
  },
  {
   "cell_type": "code",
   "execution_count": null,
   "id": "cd6bc849-dfff-4afd-8aae-ea938ea5836b",
   "metadata": {},
   "outputs": [],
   "source": [
    "client = await AsyncClient.connect(api_key=api_key, api_secret=api_secret, paper_trading=paper_trading)"
   ]
  },
  {
   "cell_type": "code",
   "execution_count": null,
   "id": "0de3809e-1675-4129-a1b3-508d8144fab4",
   "metadata": {},
   "outputs": [],
   "source": [
    "await client.who_am_i()"
   ]
  },
  {
   "cell_type": "code",
   "execution_count": null,
   "id": "dc64307a-9e2b-46df-9a52-9de5939d70aa",
   "metadata": {},
   "outputs": [],
   "source": [
    "await client.list_accounts()  # if in paper trading mode and you do not see an account, then go to the web gui (app.architect.co) and then enable paper account on there before running"
   ]
  },
  {
   "cell_type": "code",
   "execution_count": null,
   "id": "7c872047-5edb-46f9-94d2-75ef9d2b7ea4",
   "metadata": {},
   "outputs": [],
   "source": [
    "await client.get_cme_futures_series(\"ES CME Futures\")"
   ]
  },
  {
   "cell_type": "code",
   "execution_count": null,
   "id": "cbe265fc-bb80-4279-b89f-8d164a60354a",
   "metadata": {},
   "outputs": [],
   "source": [
    "await client.search_symbols(\"ES\")"
   ]
  },
  {
   "cell_type": "code",
   "execution_count": null,
   "id": "70837c22-36d0-42eb-9641-301e382212fc",
   "metadata": {},
   "outputs": [],
   "source": [
    "ES_symbol = \"ES 20250620 CME Future\"\n",
    "NQ_symbol = \"NQ 20250620 CME Future\"\n",
    "ES_tradable_product = TradableProduct(ES_symbol, \"USD\")\n",
    "NQ_tradable_product = TradableProduct(NQ_symbol, \"USD\")"
   ]
  },
  {
   "cell_type": "code",
   "execution_count": null,
   "id": "c5b08e7e-de6c-44bf-b434-7c7cf4473e1a",
   "metadata": {},
   "outputs": [],
   "source": [
    "await client.get_product_infos([ES_symbol, NQ_symbol])"
   ]
  },
  {
   "cell_type": "code",
   "execution_count": null,
   "id": "39184c41-172b-4720-9b45-2890a6233423",
   "metadata": {},
   "outputs": [],
   "source": [
    "await client.get_market_status(ES_tradable_product, \"CME\")"
   ]
  },
  {
   "cell_type": "code",
   "execution_count": null,
   "id": "58bdf5d4-0491-464e-b822-6c82cc322172",
   "metadata": {},
   "outputs": [],
   "source": [
    "await client.get_execution_info(ES_tradable_product, \"CME\")"
   ]
  },
  {
   "cell_type": "code",
   "execution_count": null,
   "id": "723b4fed-0db8-4769-aa36-86e22be87edc",
   "metadata": {},
   "outputs": [],
   "source": [
    "await client.get_execution_infos([ES_tradable_product, NQ_tradable_product])"
   ]
  },
  {
   "cell_type": "code",
   "execution_count": null,
   "id": "e6eb4dd3-6a48-4e34-8770-47f628837d4c",
   "metadata": {},
   "outputs": [],
   "source": [
    "await client.get_account_summaries()"
   ]
  },
  {
   "cell_type": "code",
   "execution_count": null,
   "id": "d3b06199-2999-4f4c-80a6-6d32fac0e399",
   "metadata": {},
   "outputs": [],
   "source": [
    "await client.get_all_open_orders()"
   ]
  },
  {
   "cell_type": "code",
   "execution_count": null,
   "id": "9cf2247d-825e-421e-b131-07596ec9c398",
   "metadata": {},
   "outputs": [],
   "source": [
    "accounts = await client.list_accounts()\n",
    "await client.get_account_summaries(accounts=[account.account.id for account in accounts])"
   ]
  },
  {
   "cell_type": "code",
   "execution_count": null,
   "id": "1a9eb055-b099-484f-820d-83c597e472ad",
   "metadata": {},
   "outputs": [],
   "source": [
    "await client.get_l2_book_snapshot(venue=\"CME\", symbol=ES_tradable_product)"
   ]
  },
  {
   "cell_type": "code",
   "execution_count": null,
   "id": "7ffdd4c8-ed20-4f7c-aa9c-56b17da888d4",
   "metadata": {},
   "outputs": [],
   "source": [
    "execution_venue = \"CME\"\n",
    "quantity = Decimal(1)\n",
    "limit_price=Decimal(5000)\n",
    "account = (await client.list_accounts())[0].account.name\n",
    "\n",
    "if not account.startswith(\"PAPER\"):\n",
    "    raise ValueError(\"You are NOT in a paper trading environment. This is a real order.\")\n",
    "\n",
    "order = await client.send_limit_order(\n",
    "    symbol=ES_tradable_product,\n",
    "    execution_venue=execution_venue,\n",
    "    odir=OrderDir.BUY,\n",
    "    quantity=quantity,\n",
    "    limit_price=limit_price,\n",
    "    account=account,\n",
    ")\n",
    "order"
   ]
  },
  {
   "cell_type": "code",
   "execution_count": null,
   "id": "835b6f78-2c05-4748-82bf-f5b913d33852",
   "metadata": {},
   "outputs": [],
   "source": []
  }
 ],
 "metadata": {
  "kernelspec": {
   "display_name": "Python 3 (ipykernel)",
   "language": "python",
   "name": "python3"
  },
  "language_info": {
   "codemirror_mode": {
    "name": "ipython",
    "version": 3
   },
   "file_extension": ".py",
   "mimetype": "text/x-python",
   "name": "python",
   "nbconvert_exporter": "python",
   "pygments_lexer": "ipython3",
   "version": "3.12.4"
  }
 },
 "nbformat": 4,
 "nbformat_minor": 5
}
